{
 "cells": [
  {
   "cell_type": "code",
   "execution_count": 1,
   "id": "538aa851-e905-4382-8094-6c1d2a66f37c",
   "metadata": {},
   "outputs": [],
   "source": [
    "from scenedetect import VideoManager, SceneManager, StatsManager, open_video\n",
    "from scenedetect.detectors import ContentDetector\n",
    "from scenedetect.scene_manager import save_images, write_scene_list_html\n",
    "import pafy\n",
    "import cv2"
   ]
  },
  {
   "cell_type": "code",
   "execution_count": 2,
   "id": "467d850f",
   "metadata": {},
   "outputs": [],
   "source": [
    "import pandas as pd\n",
    "from bs4 import BeautifulSoup as bs\n",
    "import requests\n",
    "from selenium import webdriver\n",
    "import time"
   ]
  },
  {
   "cell_type": "code",
   "execution_count": 8,
   "id": "7578089c",
   "metadata": {},
   "outputs": [
    {
     "name": "stderr",
     "output_type": "stream",
     "text": [
      "C:\\Users\\admin\\AppData\\Local\\Temp\\ipykernel_10056\\2401240332.py:1: DeprecationWarning: executable_path has been deprecated, please pass in a Service object\n",
      "  driver = webdriver.Chrome('C:/ChromeDriver_exe/chromedriver_105.exe')\n"
     ]
    }
   ],
   "source": [
    "driver = webdriver.Chrome('C:/ChromeDriver_exe/chromedriver_105.exe')\n",
    "url = 'https://www.youtube.com/watch?v=T6Rs7KuPOhM'\n",
    "driver.get(url)\n",
    "time.sleep(5)\n",
    "html = driver.page_source\n",
    "soup = bs(html, 'html.parser')"
   ]
  },
  {
   "cell_type": "code",
   "execution_count": 9,
   "id": "a8e760ba",
   "metadata": {},
   "outputs": [],
   "source": [
    "name = soup.select_one('#upload-info tp-yt-paper-tooltip #tooltip').text.strip()\n",
    "subscriber = soup.select_one('#upload-info #owner-sub-count').text.strip()\n",
    "img = soup.find('img', 'ytp-ad-image ytp-flyout-cta-icon')['src']"
   ]
  },
  {
   "cell_type": "code",
   "execution_count": 10,
   "id": "86ca3e2a",
   "metadata": {},
   "outputs": [
    {
     "name": "stdout",
     "output_type": "stream",
     "text": [
      "흥달쌤\n",
      "구독자 5.63천명\n",
      "https://yt3.ggpht.com/5Xjno_HDelupN6QP4BXvG9sFCcsuc8TM5yJk-vK-n5PsyWTl9a9RlMnqmrHVreGI7QkrLoOg8Q=s88-c-k-c0x00ffffff-no-rj\n"
     ]
    }
   ],
   "source": [
    "print(name)\n",
    "print(subscriber)\n",
    "print(img)"
   ]
  }
 ],
 "metadata": {
  "kernelspec": {
   "display_name": "final_kernel",
   "language": "python",
   "name": "final"
  },
  "language_info": {
   "codemirror_mode": {
    "name": "ipython",
    "version": 3
   },
   "file_extension": ".py",
   "mimetype": "text/x-python",
   "name": "python",
   "nbconvert_exporter": "python",
   "pygments_lexer": "ipython3",
   "version": "3.9.12"
  }
 },
 "nbformat": 4,
 "nbformat_minor": 5
}
