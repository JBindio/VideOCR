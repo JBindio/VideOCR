{
 "cells": [
  {
   "cell_type": "code",
   "execution_count": 1,
   "id": "0bb839d5-3a7a-46d4-a3c6-f5ceb04e193d",
   "metadata": {},
   "outputs": [],
   "source": [
    "import urllib\n",
    "import cv2\n",
    "import numpy as np\n",
    "import pafy"
   ]
  },
  {
   "cell_type": "code",
   "execution_count": 9,
   "id": "a3d8356b-405c-4747-92c2-e80de0be53fa",
   "metadata": {},
   "outputs": [],
   "source": [
    "def url_to_image(url):\n",
    "  # download the image, convert it to a NumPy array, and then read\n",
    "  # it into OpenCV format\n",
    "  resp = urllib.request.urlopen(url)\n",
    "  image = np.asarray(bytearray(resp.read()), dtype=\"uint8\")\n",
    "  image = cv2.imdecode(image, cv2.IMREAD_COLOR)\n",
    " \n",
    "  # return the image\n",
    "  return image"
   ]
  },
  {
   "cell_type": "code",
   "execution_count": 11,
   "id": "b9943d2f-ac1f-4ba9-b2a3-f851be3b62cb",
   "metadata": {},
   "outputs": [],
   "source": [
    "resp = urllib.request.urlopen('https://youtu.be/g4ctGPOZV1M')"
   ]
  },
  {
   "cell_type": "code",
   "execution_count": 14,
   "id": "31bc9cfc-9d9d-4a62-9276-b57ceca3a3f2",
   "metadata": {},
   "outputs": [
    {
     "data": {
      "text/plain": [
       "array([], dtype=uint8)"
      ]
     },
     "execution_count": 14,
     "metadata": {},
     "output_type": "execute_result"
    }
   ],
   "source": [
    "np.asarray(bytearray(resp.read()), dtype=\"uint8\")"
   ]
  },
  {
   "cell_type": "code",
   "execution_count": 2,
   "id": "daa676f8-ff18-47e1-a8aa-09fcde785cb0",
   "metadata": {},
   "outputs": [],
   "source": [
    "url = 'https://www.youtube.com/watch?v=g4ctGPOZV1M&t=1s'\n",
    "video = pafy.new(url)"
   ]
  },
  {
   "cell_type": "code",
   "execution_count": 5,
   "id": "914a9776",
   "metadata": {},
   "outputs": [
    {
     "data": {
      "text/plain": [
       "'[데이터에듀] ADsP 1과목 데이터의 정의와 유형'"
      ]
     },
     "execution_count": 5,
     "metadata": {},
     "output_type": "execute_result"
    }
   ],
   "source": [
    "video.title"
   ]
  }
 ],
 "metadata": {
  "kernelspec": {
   "display_name": "final_kernel",
   "language": "python",
   "name": "final"
  },
  "language_info": {
   "codemirror_mode": {
    "name": "ipython",
    "version": 3
   },
   "file_extension": ".py",
   "mimetype": "text/x-python",
   "name": "python",
   "nbconvert_exporter": "python",
   "pygments_lexer": "ipython3",
   "version": "3.9.12"
  }
 },
 "nbformat": 4,
 "nbformat_minor": 5
}
