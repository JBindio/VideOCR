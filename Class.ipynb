{
 "cells": [
  {
   "cell_type": "code",
   "execution_count": 1,
   "id": "a72728c2-299a-4761-b18d-85453caa2d07",
   "metadata": {},
   "outputs": [],
   "source": [
    "class test:\n",
    "    def setdata(self,first, second):\n",
    "        self.first = first\n",
    "        self.second = second\n",
    "    \n",
    "    def add(self):\n",
    "        result = self.first + self.second\n",
    "        return result"
   ]
  },
  {
   "cell_type": "code",
   "execution_count": null,
   "id": "d35b3b90-4d17-444a-bf11-17e8d2e5a0ae",
   "metadata": {},
   "outputs": [],
   "source": []
  },
  {
   "cell_type": "code",
   "execution_count": 22,
   "id": "e57cda7c-8772-4f27-9e21-0851264b2ede",
   "metadata": {},
   "outputs": [],
   "source": [
    "a = test()"
   ]
  },
  {
   "cell_type": "code",
   "execution_count": 24,
   "id": "523811f0-bab4-4844-817f-5efb63045b3f",
   "metadata": {},
   "outputs": [],
   "source": [
    "a.setdata(4,2)"
   ]
  },
  {
   "cell_type": "code",
   "execution_count": 25,
   "id": "458ae90d-a02d-4147-9e14-c004ce237908",
   "metadata": {},
   "outputs": [
    {
     "data": {
      "text/plain": [
       "6"
      ]
     },
     "execution_count": 25,
     "metadata": {},
     "output_type": "execute_result"
    }
   ],
   "source": [
    "a.add()"
   ]
  },
  {
   "cell_type": "code",
   "execution_count": 1,
   "id": "9905bab1-4b6a-4c00-80b8-eb7600e7f6a2",
   "metadata": {},
   "outputs": [],
   "source": [
    "class FourCal:\n",
    "    def __init__(self, first, second):\n",
    "       self.first = first\n",
    "       self.second = second\n",
    "\n",
    "       self.second = second\n",
    "    def add(self):\n",
    "       result = self.first + self.second\n",
    "       return result\n",
    "    def mul(self):\n",
    "       result = self.first * self.second\n",
    "       return result\n",
    "    def sub(self):\n",
    "       result = self.first - self.second\n",
    "       return result\n",
    "    def div(self):\n",
    "       result = self.first / self.second\n",
    "       return result"
   ]
  },
  {
   "cell_type": "code",
   "execution_count": 2,
   "id": "d5dad454-1984-4308-af2c-81acbeeefb3b",
   "metadata": {},
   "outputs": [],
   "source": [
    "a = FourCal(7,2)"
   ]
  },
  {
   "cell_type": "code",
   "execution_count": 4,
   "id": "59cda11e-a3da-4246-9a4f-7352a63d2e5c",
   "metadata": {},
   "outputs": [
    {
     "data": {
      "text/plain": [
       "14"
      ]
     },
     "execution_count": 4,
     "metadata": {},
     "output_type": "execute_result"
    }
   ],
   "source": [
    "a.mul()"
   ]
  }
 ],
 "metadata": {
  "kernelspec": {
   "display_name": "final_kernel",
   "language": "python",
   "name": "final"
  },
  "language_info": {
   "codemirror_mode": {
    "name": "ipython",
    "version": 3
   },
   "file_extension": ".py",
   "mimetype": "text/x-python",
   "name": "python",
   "nbconvert_exporter": "python",
   "pygments_lexer": "ipython3",
   "version": "3.9.12"
  }
 },
 "nbformat": 4,
 "nbformat_minor": 5
}
