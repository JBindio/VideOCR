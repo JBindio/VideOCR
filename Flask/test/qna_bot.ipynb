{
  "cells": [
    {
      "cell_type": "code",
      "execution_count": 2,
      "metadata": {
        "id": "WI7l6_c5yrGD"
      },
      "outputs": [],
      "source": [
        "import requests\n",
        "from bs4 import BeautifulSoup as bs\n",
        "from konlpy.tag import Okt"
      ]
    },
    {
      "cell_type": "code",
      "execution_count": 3,
      "metadata": {
        "id": "RUXtWww4y0kK"
      },
      "outputs": [],
      "source": [
        "def qna_bot(text):\n",
        "  word_dic = {}  \n",
        "  okt = Okt()\n",
        "  sum_text = ''\n",
        "\n",
        "  tokenized_doc = okt.pos(text)\n",
        "  \n",
        "  for word in tokenized_doc:\n",
        "\n",
        "    if word[1] == 'Noun':\n",
        "    \n",
        "      url = 'https://search.naver.com/search.naver?sm=tab_hty.top&where=kdic&query={}'.format(word[0])\n",
        "      html = requests.get(url)\n",
        "      soup = bs(html.text, 'html.parser')\n",
        "      temp_sum = soup.select('span[class=\"lnk_sub_tit elss\"]')[0].text\n",
        "      lnk = soup.select('a[class=\"lnk_tit\"]')[0].attrs['href']\n",
        "      if temp_sum != sum_text:\n",
        "        sum_text = temp_sum\n",
        "        word_dic[word[0]] = [sum_text, lnk]\n",
        "      else:\n",
        "        word_dic[word[0]] = ['링크에서 내용을 확인해주세요', lnk]\n",
        "  \n",
        "  return word_dic"
      ]
    },
    {
      "cell_type": "code",
      "execution_count": 4,
      "metadata": {
        "colab": {
          "base_uri": "https://localhost:8080/"
        },
        "id": "yBak6mdkzUok",
        "outputId": "a6d6e9a4-e722-4ebe-cb51-5e990c53a8b9"
      },
      "outputs": [
        {
          "data": {
            "text/plain": [
              "{'암묵지': ['학습과 경험을 통하여 개인에게 체화되어 있지만 겉으로 드러나지 않는 지식',\n",
              "  'https://terms.naver.com/entry.naver?docId=1348465&cid=40942&categoryId=31433'],\n",
              " '형식지': ['링크에서 내용을 확인해주세요',\n",
              "  'https://terms.naver.com/entry.naver?docId=858147&cid=50376&categoryId=50376']}"
            ]
          },
          "execution_count": 4,
          "metadata": {},
          "output_type": "execute_result"
        }
      ],
      "source": [
        "text = '암묵지와 형식지 알려줘'\n",
        "qna_bot(text)"
      ]
    }
  ],
  "metadata": {
    "accelerator": "GPU",
    "colab": {
      "collapsed_sections": [],
      "provenance": []
    },
    "kernelspec": {
      "display_name": "Python 3.10.4 ('final')",
      "language": "python",
      "name": "python3"
    },
    "language_info": {
      "codemirror_mode": {
        "name": "ipython",
        "version": 3
      },
      "file_extension": ".py",
      "mimetype": "text/x-python",
      "name": "python",
      "nbconvert_exporter": "python",
      "pygments_lexer": "ipython3",
      "version": "3.10.4"
    },
    "vscode": {
      "interpreter": {
        "hash": "422bacecc5a04b4f9fe9b50f42372ce3b786ed202976d994abd71261280d25ac"
      }
    }
  },
  "nbformat": 4,
  "nbformat_minor": 0
}
