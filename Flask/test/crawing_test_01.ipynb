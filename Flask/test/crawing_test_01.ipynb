{
 "cells": [
  {
   "cell_type": "code",
   "execution_count": 8,
   "id": "215e393d-0115-4290-8030-f75af1598dfd",
   "metadata": {},
   "outputs": [
    {
     "name": "stderr",
     "output_type": "stream",
     "text": [
      "C:\\Users\\admin\\AppData\\Local\\Temp\\ipykernel_11068\\3283412556.py:7: DeprecationWarning: executable_path has been deprecated, please pass in a Service object\n",
      "  driver = webdriver.Chrome('C:/ChromeDriver_exe/chromedriver_105.exe')\n"
     ]
    }
   ],
   "source": [
    "import pandas as pd\n",
    "from bs4 import BeautifulSoup as bs\n",
    "import requests\n",
    "from selenium import webdriver\n",
    "import time\n",
    "\n",
    "driver = webdriver.Chrome('C:/ChromeDriver_exe/chromedriver_105.exe')\n",
    "url = 'https://www.youtube.com/watch?v=IHd-v4zYxj0&list=PLnp1rUgG4UVa29LNZYhmaxZ2mQMyPDyq3&index=5'\n",
    "driver.get(url)\n",
    "time.sleep(1)\n",
    "html = driver.page_source\n",
    "soup = bs(html, 'html.parser')\n",
    "\n",
    "name = soup.select_one('#upload-info tp-yt-paper-tooltip #tooltip').text.strip()\n",
    "subscriber = soup.select_one('#upload-info #owner-sub-count').text.strip()\n",
    "img = soup.select('#avatar #img')[0]\n",
    "contents = soup.select_one('yt-formatted-string[class=\"content style-scope ytd-video-secondary-info-renderer\"]').text"
   ]
  },
  {
   "cell_type": "code",
   "execution_count": 9,
   "id": "1016b980",
   "metadata": {},
   "outputs": [
    {
     "name": "stdout",
     "output_type": "stream",
     "text": [
      "EduAtoZ - Programming\n",
      "구독자 1.19만명\n",
      "<img alt=\"\" class=\"style-scope yt-img-shadow\" draggable=\"false\" id=\"img\" width=\"36\"/>\n"
     ]
    }
   ],
   "source": [
    "print(name)\n",
    "print(subscriber)\n",
    "print(img)"
   ]
  },
  {
   "cell_type": "code",
   "execution_count": 10,
   "id": "bc4003fe",
   "metadata": {},
   "outputs": [
    {
     "data": {
      "text/plain": [
       "<img alt=\"\" class=\"style-scope yt-img-shadow\" draggable=\"false\" id=\"img\" src=\"https://yt3.ggpht.com/VMKgHek-Er19MpUFwSSJpKh_S6K9LJvCvAF08dA_qiy93VMKal9Z1_t7hcviXc5OXsTsu7RR=s48-c-k-c0x00ffffff-no-rj\" width=\"36\"/>"
      ]
     },
     "execution_count": 10,
     "metadata": {},
     "output_type": "execute_result"
    }
   ],
   "source": [
    "soup.select('#avatar #img')[1]"
   ]
  },
  {
   "cell_type": "code",
   "execution_count": 142,
   "id": "eb0e2df4",
   "metadata": {},
   "outputs": [
    {
     "data": {
      "text/plain": [
       "\"오늘은 1과목 두 번째 시간 '암묵지와 형식지'에 대한 내용입니다.\\n암묵지, 형식지를 구분하실 수 있으면 됩니다.\\n\\n교안 : https://www.notion.so/eduatoz/f55a341...\""
      ]
     },
     "execution_count": 142,
     "metadata": {},
     "output_type": "execute_result"
    }
   ],
   "source": [
    "contents = soup.select_one('yt-formatted-string[class=\"content style-scope ytd-video-secondary-info-renderer\"]').text\n",
    "contents"
   ]
  },
  {
   "cell_type": "code",
   "execution_count": 144,
   "id": "a611c632",
   "metadata": {},
   "outputs": [
    {
     "name": "stdout",
     "output_type": "stream",
     "text": [
      "존재\n"
     ]
    }
   ],
   "source": [
    "if \"\\n\" in contents: \n",
    "    print('존재')"
   ]
  },
  {
   "cell_type": "code",
   "execution_count": 143,
   "id": "ebddfc0d",
   "metadata": {},
   "outputs": [
    {
     "data": {
      "text/plain": [
       "'\\n'"
      ]
     },
     "execution_count": 143,
     "metadata": {},
     "output_type": "execute_result"
    }
   ],
   "source": [
    "contents[37]"
   ]
  },
  {
   "cell_type": "code",
   "execution_count": 129,
   "id": "2694bc60",
   "metadata": {},
   "outputs": [
    {
     "name": "stdout",
     "output_type": "stream",
     "text": [
      "오늘은 1과목 두 번째 시간 '암묵지와 형식지'에 대한 내용입니다.\n",
      "암묵지, 형식지를 구분하실 수 있으면 됩니다.\n",
      "\n",
      "교안 : https://www.notion.so/eduatoz/f55a341...\n"
     ]
    }
   ],
   "source": [
    "print(contents)"
   ]
  },
  {
   "cell_type": "code",
   "execution_count": 138,
   "id": "f7c427a0",
   "metadata": {},
   "outputs": [
    {
     "data": {
      "text/plain": [
       "\"오늘은 1과목 두 번째 시간 '암묵지와 형식지'에 대한 내용입니다.\\n암묵지, 형식지를 구분하실 수 있으면 됩니다.\\n\\n교안 : https://www.notion.so/eduatoz/f55a341...\""
      ]
     },
     "execution_count": 138,
     "metadata": {},
     "output_type": "execute_result"
    }
   ],
   "source": [
    "if contents :"
   ]
  },
  {
   "cell_type": "code",
   "execution_count": 135,
   "id": "dc67be9b",
   "metadata": {},
   "outputs": [
    {
     "data": {
      "text/plain": [
       "\"오늘은 1과목 두 번째 시간 '암묵지와 형식지'에 대한 내용입니다.<br>암묵지, 형식지를 구분하실 수 있으면 됩니다.<br><br>교안 : https://www.notion.so/eduatoz/f55a341...\""
      ]
     },
     "execution_count": 135,
     "metadata": {},
     "output_type": "execute_result"
    }
   ],
   "source": [
    "contents.replace('\\n',\"<br>\")"
   ]
  },
  {
   "cell_type": "code",
   "execution_count": 119,
   "id": "d0a823cc",
   "metadata": {},
   "outputs": [
    {
     "data": {
      "text/plain": [
       "[<yt-formatted-string class=\"miniplayer-title style-scope ytd-miniplayer\" ellipsis-truncate=\"\" ellipsis-truncate-styling=\"\" is-empty=\"\" title=\"\"><!--css-build:shady--><yt-attributed-string class=\"style-scope yt-formatted-string\"></yt-attributed-string></yt-formatted-string>,\n",
       " <yt-formatted-string class=\"style-scope ytd-miniplayer\" id=\"owner-name\" is-empty=\"\" no-endpoints=\"\"><!--css-build:shady--><yt-attributed-string class=\"style-scope yt-formatted-string\"></yt-attributed-string></yt-formatted-string>,\n",
       " <yt-formatted-string class=\"title style-scope ytd-playlist-panel-renderer\" ellipsis-truncate=\"\" ellipsis-truncate-styling=\"\" is-empty=\"\" title=\"\"><!--css-build:shady--><yt-attributed-string class=\"style-scope yt-formatted-string\"></yt-attributed-string></yt-formatted-string>,\n",
       " <yt-formatted-string class=\"style-scope ytd-playlist-panel-renderer\" ellipsis-truncate=\"\" ellipsis-truncate-styling=\"\" is-empty=\"\" title=\"\"><!--css-build:shady--><yt-attributed-string class=\"style-scope yt-formatted-string\"></yt-attributed-string></yt-formatted-string>,\n",
       " <yt-formatted-string class=\"byline-title style-scope ytd-playlist-panel-renderer\" ellipsis-truncate=\"\" ellipsis-truncate-styling=\"\" hidden=\"\" is-empty=\"\" title=\"\"><!--css-build:shady--><yt-attributed-string class=\"style-scope yt-formatted-string\"></yt-attributed-string></yt-formatted-string>,\n",
       " <yt-formatted-string class=\"publisher style-scope ytd-playlist-panel-renderer\" ellipsis-truncate=\"\" ellipsis-truncate-styling=\"\" is-empty=\"\" title=\"\"><!--css-build:shady--><yt-attributed-string class=\"style-scope yt-formatted-string\"></yt-attributed-string></yt-formatted-string>,\n",
       " <yt-formatted-string class=\"index-message style-scope ytd-playlist-panel-renderer\" hidden=\"\" is-empty=\"\" respecthtmldir=\"\"><!--css-build:shady--><yt-attributed-string class=\"style-scope yt-formatted-string\"></yt-attributed-string></yt-formatted-string>,\n",
       " <yt-formatted-string class=\"style-scope ytd-button-renderer style-default size-default\" id=\"text\">탐색 건너뛰기</yt-formatted-string>,\n",
       " <yt-formatted-string class=\"style-scope ytd-button-renderer style-suggestive size-small\" id=\"text\">로그인</yt-formatted-string>,\n",
       " <yt-formatted-string class=\"super-title style-scope ytd-video-primary-info-renderer\" force-default-style=\"\" has-link-only_=\"\"><a class=\"yt-simple-endpoint style-scope yt-formatted-string\" dir=\"auto\" href=\"/playlist?list=PLnp1rUgG4UVa29LNZYhmaxZ2mQMyPDyq3\" spellcheck=\"false\">데이터분석준전문가-1과목</a></yt-formatted-string>,\n",
       " <yt-formatted-string class=\"style-scope ytd-video-primary-info-renderer\" force-default-style=\"\">[데이터분석준전문가 ADsP][1과목-02] 암묵지와 형식지</yt-formatted-string>,\n",
       " <yt-formatted-string class=\"style-scope ytd-video-primary-info-renderer\">2021. 2. 1.</yt-formatted-string>,\n",
       " <yt-formatted-string aria-label=\"좋아요 99개\" class=\"style-scope ytd-toggle-button-renderer style-text\" id=\"text\">99</yt-formatted-string>,\n",
       " <yt-formatted-string class=\"style-scope ytd-toggle-button-renderer style-text\" id=\"text\">싫어요</yt-formatted-string>,\n",
       " <yt-formatted-string class=\"style-scope ytd-button-renderer style-default size-default\" id=\"text\">공유</yt-formatted-string>,\n",
       " <yt-formatted-string class=\"style-scope ytd-button-renderer style-default size-default\" id=\"text\">오프라인 저장</yt-formatted-string>,\n",
       " <yt-formatted-string class=\"style-scope ytd-button-renderer style-default size-default\" id=\"text\">저장</yt-formatted-string>,\n",
       " <yt-formatted-string class=\"style-scope ytd-channel-name\" has-link-only_=\"\" id=\"text\" link-inherit-color=\"\" title=\"\"><a class=\"yt-simple-endpoint style-scope yt-formatted-string\" dir=\"auto\" href=\"/c/EduAtoZPython\" spellcheck=\"false\">EduAtoZ - Programming</a></yt-formatted-string>,\n",
       " <yt-formatted-string aria-label=\"구독자 1.18만명\" class=\"style-scope ytd-video-owner-renderer\" id=\"owner-sub-count\">구독자 1.18만명</yt-formatted-string>,\n",
       " <yt-formatted-string class=\"style-scope ytd-button-renderer style-suggestive size-default\" id=\"text\">가입</yt-formatted-string>,\n",
       " <yt-formatted-string class=\"style-scope ytd-button-renderer style-destructive size-default\" id=\"text\">구독</yt-formatted-string>,\n",
       " <yt-formatted-string class=\"content style-scope ytd-video-secondary-info-renderer\" force-default-style=\"\" split-lines=\"\"><span class=\"style-scope yt-formatted-string\" dir=\"auto\">오늘은 1과목 두 번째 시간 '암묵지와 형식지'에 대한 내용입니다.\n",
       " 암묵지, 형식지를 구분하실 수 있으면 됩니다.\n",
       " \n",
       " 교안 : </span><a class=\"yt-simple-endpoint style-scope yt-formatted-string\" dir=\"auto\" href=\"https://www.youtube.com/redirect?event=video_description&amp;redir_token=QUFFLUhqa0NKMjV6akxKSEI2dms1dVdlWEZ4REo4dmVjZ3xBQ3Jtc0ttMTR2aG1JZXNGX1hLY25aOF9Tem1uYlJiTGpaVUxlellvS0U0dDVPLU5sMTBMT3M2UUhRVFhUa2VZM2xxNW9FOFVCUUpuQmtYVEZranZkQUNSbFYyUGhYVGNkZGl4Yzd3TmhJZENSV05LTlF2amtjVQ&amp;q=https%3A%2F%2Fwww.notion.so%2Feduatoz%2Ff55a34175dd14f42b14161140a27c1d2%3Fv%3D6be282fd277c43e2a2bf014db0514fb0&amp;v=IHd-v4zYxj0\" rel=\"nofollow\" spellcheck=\"false\" target=\"_blank\">https://www.notion.so/eduatoz/f55a341...</a></yt-formatted-string>,\n",
       " <yt-formatted-string class=\"less-button style-scope ytd-video-secondary-info-renderer\" role=\"button\" slot=\"less-button\">간략히</yt-formatted-string>,\n",
       " <yt-formatted-string class=\"more-button style-scope ytd-video-secondary-info-renderer\" role=\"button\" slot=\"more-button\">더보기</yt-formatted-string>,\n",
       " <yt-formatted-string class=\"style-scope ytd-engagement-panel-title-header-renderer\" ellipsis-truncate=\"\" ellipsis-truncate-styling=\"\" id=\"title-text\" title=\"설명\">설명</yt-formatted-string>,\n",
       " <yt-formatted-string class=\"style-scope ytd-engagement-panel-title-header-renderer\" hidden=\"\" id=\"contextual-info\" is-empty=\"\"><!--css-build:shady--><yt-attributed-string class=\"style-scope yt-formatted-string\"></yt-attributed-string></yt-formatted-string>,\n",
       " <yt-formatted-string class=\"style-scope ytd-video-description-header-renderer\">[데이터분석준전문가 ADsP][1과목-02] 암묵지와 형식지</yt-formatted-string>,\n",
       " <yt-formatted-string class=\"style-scope ytd-channel-name\" id=\"text\" link-inherit-color=\"\" title=\"\">EduAtoZ - Programming</yt-formatted-string>,\n",
       " <yt-formatted-string class=\"factoid-value style-scope ytd-factoid-renderer\">99</yt-formatted-string>,\n",
       " <yt-formatted-string class=\"factoid-label style-scope ytd-factoid-renderer\">좋아요 수</yt-formatted-string>,\n",
       " <yt-formatted-string class=\"factoid-value style-scope ytd-factoid-renderer\">13,947</yt-formatted-string>,\n",
       " <yt-formatted-string class=\"factoid-label style-scope ytd-factoid-renderer\">조회수</yt-formatted-string>,\n",
       " <yt-formatted-string class=\"factoid-value style-scope ytd-factoid-renderer\">2021년</yt-formatted-string>,\n",
       " <yt-formatted-string class=\"factoid-label style-scope ytd-factoid-renderer\">2월 1일</yt-formatted-string>,\n",
       " <yt-formatted-string class=\"content style-scope ytd-expandable-video-description-body-renderer\" force-default-style=\"\" split-lines=\"\"><span class=\"style-scope yt-formatted-string\" dir=\"auto\">오늘은 1과목 두 번째 시간 '암묵지와 형식지'에 대한 내용입니다.\n",
       " 암묵지, 형식지를 구분하실 수 있으면 됩니다.\n",
       " \n",
       " 교안 : </span><a class=\"yt-simple-endpoint style-scope yt-formatted-string\" dir=\"auto\" href=\"https://www.youtube.com/redirect?event=video_description&amp;redir_token=QUFFLUhqa0xhd1ZyekVYX1RvMGM1MGFkUDVfSk51eWx1UXxBQ3Jtc0tuTnRzV051aW9MR09LZmJSMWhYd2YtUmF3MnlQU2FpYjFLYlFJSlJNb092VHhVb1ZOdV9sZmUwZmF3d0ZENTBBWjRWcUw2b21uRkQyVHJBaFRLSkFrTkdmZlhHcjd6b3BONzNQanlJbGsyOGlXOEJ4OA&amp;q=https%3A%2F%2Fwww.notion.so%2Feduatoz%2Ff55a34175dd14f42b14161140a27c1d2%3Fv%3D6be282fd277c43e2a2bf014db0514fb0&amp;v=IHd-v4zYxj0\" rel=\"nofollow\" spellcheck=\"false\" target=\"_blank\">https://www.notion.so/eduatoz/f55a341...</a></yt-formatted-string>,\n",
       " <yt-formatted-string class=\"less-button style-scope ytd-expandable-video-description-body-renderer\" role=\"button\" slot=\"less-button\">간략히</yt-formatted-string>,\n",
       " <yt-formatted-string class=\"more-button style-scope ytd-expandable-video-description-body-renderer\" role=\"button\" slot=\"more-button\">더보기</yt-formatted-string>,\n",
       " <yt-formatted-string class=\"style-scope ytd-engagement-panel-title-header-renderer\" ellipsis-truncate=\"\" ellipsis-truncate-styling=\"\" id=\"title-text\" title=\"댓글\">댓글</yt-formatted-string>,\n",
       " <yt-formatted-string class=\"style-scope ytd-engagement-panel-title-header-renderer\" id=\"contextual-info\">10</yt-formatted-string>,\n",
       " <yt-formatted-string class=\"style-scope ytd-engagement-panel-title-header-renderer\" ellipsis-truncate=\"\" ellipsis-truncate-styling=\"\" id=\"title-text\" title=\"스크립트\">스크립트</yt-formatted-string>,\n",
       " <yt-formatted-string class=\"style-scope ytd-engagement-panel-title-header-renderer\" hidden=\"\" id=\"contextual-info\" is-empty=\"\"><!--css-build:shady--><yt-attributed-string class=\"style-scope yt-formatted-string\"></yt-attributed-string></yt-formatted-string>,\n",
       " <yt-formatted-string class=\"title style-scope ytd-playlist-panel-renderer complex-string\" ellipsis-truncate=\"\" ellipsis-truncate-styling=\"\" has-link-only_=\"\" title=\"데이터분석준전문가-1과목\"><a class=\"yt-simple-endpoint style-scope yt-formatted-string\" dir=\"auto\" href=\"/playlist?list=PLnp1rUgG4UVa29LNZYhmaxZ2mQMyPDyq3\" spellcheck=\"false\">데이터분석준전문가-1과목</a></yt-formatted-string>,\n",
       " <yt-formatted-string aria-label=\"[데이터분석준전문가 ADsP][1과목-03] 암묵지와 형식지의 상호작용 게시자: EduAtoZ - Programming 5분 42초\" class=\"style-scope ytd-playlist-panel-renderer\" ellipsis-truncate=\"\" ellipsis-truncate-styling=\"\" title=\"[데이터분석준전문가 ADsP][1과목-03] 암묵지와 형식지의 상호작용\">[데이터분석준전문가 ADsP][1과목-03] 암묵지와 형식지의 상호작용</yt-formatted-string>,\n",
       " <yt-formatted-string class=\"byline-title style-scope ytd-playlist-panel-renderer complex-string\" ellipsis-truncate=\"\" ellipsis-truncate-styling=\"\" has-link-only_=\"\" hidden=\"\" title=\"데이터분석준전문가-1과목\"><a class=\"yt-simple-endpoint style-scope yt-formatted-string\" dir=\"auto\" href=\"/playlist?list=PLnp1rUgG4UVa29LNZYhmaxZ2mQMyPDyq3\" spellcheck=\"false\">데이터분석준전문가-1과목</a></yt-formatted-string>,\n",
       " <yt-formatted-string class=\"publisher style-scope ytd-playlist-panel-renderer complex-string\" ellipsis-truncate=\"\" ellipsis-truncate-styling=\"\" has-link-only_=\"\" title=\"EduAtoZ - Programming\"><a class=\"yt-simple-endpoint style-scope yt-formatted-string\" dir=\"auto\" href=\"/c/EduAtoZPython\" spellcheck=\"false\">EduAtoZ - Programming</a></yt-formatted-string>,\n",
       " <yt-formatted-string class=\"index-message style-scope ytd-playlist-panel-renderer\" respecthtmldir=\"\"><span class=\"style-scope yt-formatted-string\" dir=\"auto\">4</span><span class=\"style-scope yt-formatted-string\" dir=\"auto\"> / </span><span class=\"style-scope yt-formatted-string\" dir=\"auto\">22</span></yt-formatted-string>,\n",
       " <yt-formatted-string class=\"style-scope ytd-playlist-panel-video-renderer\" disable-upgrade=\"\" hidden=\"\" id=\"unplayableText\" no-endpoints=\"\">\n",
       " </yt-formatted-string>,\n",
       " <yt-formatted-string class=\"style-scope ytd-playlist-panel-video-renderer\" disable-upgrade=\"\" hidden=\"\" id=\"video-info\" no-endpoints=\"\">\n",
       " </yt-formatted-string>,\n",
       " <yt-formatted-string class=\"style-scope ytd-playlist-panel-video-renderer\" disable-upgrade=\"\" hidden=\"\" id=\"unplayableText\" no-endpoints=\"\">\n",
       " </yt-formatted-string>,\n",
       " <yt-formatted-string class=\"style-scope ytd-playlist-panel-video-renderer\" disable-upgrade=\"\" hidden=\"\" id=\"video-info\" no-endpoints=\"\">\n",
       " </yt-formatted-string>,\n",
       " <yt-formatted-string class=\"style-scope ytd-playlist-panel-video-renderer\" disable-upgrade=\"\" hidden=\"\" id=\"unplayableText\" no-endpoints=\"\">\n",
       " </yt-formatted-string>,\n",
       " <yt-formatted-string class=\"style-scope ytd-playlist-panel-video-renderer\" disable-upgrade=\"\" hidden=\"\" id=\"video-info\" no-endpoints=\"\">\n",
       " </yt-formatted-string>,\n",
       " <yt-formatted-string class=\"style-scope ytd-playlist-panel-video-renderer\" disable-upgrade=\"\" hidden=\"\" id=\"unplayableText\" no-endpoints=\"\">\n",
       " </yt-formatted-string>,\n",
       " <yt-formatted-string class=\"style-scope ytd-playlist-panel-video-renderer\" disable-upgrade=\"\" hidden=\"\" id=\"video-info\" no-endpoints=\"\">\n",
       " </yt-formatted-string>,\n",
       " <yt-formatted-string class=\"style-scope ytd-playlist-panel-video-renderer\" disable-upgrade=\"\" hidden=\"\" id=\"unplayableText\" no-endpoints=\"\">\n",
       " </yt-formatted-string>,\n",
       " <yt-formatted-string class=\"style-scope ytd-playlist-panel-video-renderer\" disable-upgrade=\"\" hidden=\"\" id=\"video-info\" no-endpoints=\"\">\n",
       " </yt-formatted-string>,\n",
       " <yt-formatted-string class=\"style-scope ytd-playlist-panel-video-renderer\" disable-upgrade=\"\" hidden=\"\" id=\"unplayableText\" no-endpoints=\"\">\n",
       " </yt-formatted-string>,\n",
       " <yt-formatted-string class=\"style-scope ytd-playlist-panel-video-renderer\" disable-upgrade=\"\" hidden=\"\" id=\"video-info\" no-endpoints=\"\">\n",
       " </yt-formatted-string>,\n",
       " <yt-formatted-string class=\"style-scope ytd-playlist-panel-video-renderer\" disable-upgrade=\"\" hidden=\"\" id=\"unplayableText\" no-endpoints=\"\">\n",
       " </yt-formatted-string>,\n",
       " <yt-formatted-string class=\"style-scope ytd-playlist-panel-video-renderer\" disable-upgrade=\"\" hidden=\"\" id=\"video-info\" no-endpoints=\"\">\n",
       " </yt-formatted-string>,\n",
       " <yt-formatted-string class=\"style-scope ytd-playlist-panel-video-renderer\" disable-upgrade=\"\" hidden=\"\" id=\"unplayableText\" no-endpoints=\"\">\n",
       " </yt-formatted-string>,\n",
       " <yt-formatted-string class=\"style-scope ytd-playlist-panel-video-renderer\" disable-upgrade=\"\" hidden=\"\" id=\"video-info\" no-endpoints=\"\">\n",
       " </yt-formatted-string>,\n",
       " <yt-formatted-string class=\"style-scope ytd-playlist-panel-video-renderer\" disable-upgrade=\"\" hidden=\"\" id=\"unplayableText\" no-endpoints=\"\">\n",
       " </yt-formatted-string>,\n",
       " <yt-formatted-string class=\"style-scope ytd-playlist-panel-video-renderer\" disable-upgrade=\"\" hidden=\"\" id=\"video-info\" no-endpoints=\"\">\n",
       " </yt-formatted-string>,\n",
       " <yt-formatted-string class=\"style-scope ytd-playlist-panel-video-renderer\" disable-upgrade=\"\" hidden=\"\" id=\"unplayableText\" no-endpoints=\"\">\n",
       " </yt-formatted-string>,\n",
       " <yt-formatted-string class=\"style-scope ytd-playlist-panel-video-renderer\" disable-upgrade=\"\" hidden=\"\" id=\"video-info\" no-endpoints=\"\">\n",
       " </yt-formatted-string>,\n",
       " <yt-formatted-string class=\"style-scope ytd-playlist-panel-video-renderer\" disable-upgrade=\"\" hidden=\"\" id=\"unplayableText\" no-endpoints=\"\">\n",
       " </yt-formatted-string>,\n",
       " <yt-formatted-string class=\"style-scope ytd-playlist-panel-video-renderer\" disable-upgrade=\"\" hidden=\"\" id=\"video-info\" no-endpoints=\"\">\n",
       " </yt-formatted-string>,\n",
       " <yt-formatted-string class=\"style-scope ytd-playlist-panel-video-renderer\" disable-upgrade=\"\" hidden=\"\" id=\"unplayableText\" no-endpoints=\"\">\n",
       " </yt-formatted-string>,\n",
       " <yt-formatted-string class=\"style-scope ytd-playlist-panel-video-renderer\" disable-upgrade=\"\" hidden=\"\" id=\"video-info\" no-endpoints=\"\">\n",
       " </yt-formatted-string>,\n",
       " <yt-formatted-string class=\"style-scope ytd-playlist-panel-video-renderer\" disable-upgrade=\"\" hidden=\"\" id=\"unplayableText\" no-endpoints=\"\">\n",
       " </yt-formatted-string>,\n",
       " <yt-formatted-string class=\"style-scope ytd-playlist-panel-video-renderer\" disable-upgrade=\"\" hidden=\"\" id=\"video-info\" no-endpoints=\"\">\n",
       " </yt-formatted-string>,\n",
       " <yt-formatted-string class=\"style-scope ytd-playlist-panel-video-renderer\" disable-upgrade=\"\" hidden=\"\" id=\"unplayableText\" no-endpoints=\"\">\n",
       " </yt-formatted-string>,\n",
       " <yt-formatted-string class=\"style-scope ytd-playlist-panel-video-renderer\" disable-upgrade=\"\" hidden=\"\" id=\"video-info\" no-endpoints=\"\">\n",
       " </yt-formatted-string>,\n",
       " <yt-formatted-string class=\"style-scope ytd-playlist-panel-video-renderer\" disable-upgrade=\"\" hidden=\"\" id=\"unplayableText\" no-endpoints=\"\">\n",
       " </yt-formatted-string>,\n",
       " <yt-formatted-string class=\"style-scope ytd-playlist-panel-video-renderer\" disable-upgrade=\"\" hidden=\"\" id=\"video-info\" no-endpoints=\"\">\n",
       " </yt-formatted-string>,\n",
       " <yt-formatted-string class=\"style-scope ytd-playlist-panel-video-renderer\" disable-upgrade=\"\" hidden=\"\" id=\"unplayableText\" no-endpoints=\"\">\n",
       " </yt-formatted-string>,\n",
       " <yt-formatted-string class=\"style-scope ytd-playlist-panel-video-renderer\" disable-upgrade=\"\" hidden=\"\" id=\"video-info\" no-endpoints=\"\">\n",
       " </yt-formatted-string>,\n",
       " <yt-formatted-string class=\"style-scope ytd-playlist-panel-video-renderer\" disable-upgrade=\"\" hidden=\"\" id=\"unplayableText\" no-endpoints=\"\">\n",
       " </yt-formatted-string>,\n",
       " <yt-formatted-string class=\"style-scope ytd-playlist-panel-video-renderer\" disable-upgrade=\"\" hidden=\"\" id=\"video-info\" no-endpoints=\"\">\n",
       " </yt-formatted-string>,\n",
       " <yt-formatted-string class=\"style-scope ytd-playlist-panel-video-renderer\" disable-upgrade=\"\" hidden=\"\" id=\"unplayableText\" no-endpoints=\"\">\n",
       " </yt-formatted-string>,\n",
       " <yt-formatted-string class=\"style-scope ytd-playlist-panel-video-renderer\" disable-upgrade=\"\" hidden=\"\" id=\"video-info\" no-endpoints=\"\">\n",
       " </yt-formatted-string>,\n",
       " <yt-formatted-string class=\"style-scope ytd-playlist-panel-video-renderer\" disable-upgrade=\"\" hidden=\"\" id=\"unplayableText\" no-endpoints=\"\">\n",
       " </yt-formatted-string>,\n",
       " <yt-formatted-string class=\"style-scope ytd-playlist-panel-video-renderer\" disable-upgrade=\"\" hidden=\"\" id=\"video-info\" no-endpoints=\"\">\n",
       " </yt-formatted-string>,\n",
       " <yt-formatted-string class=\"style-scope ytd-playlist-panel-video-renderer\" disable-upgrade=\"\" hidden=\"\" id=\"unplayableText\" no-endpoints=\"\">\n",
       " </yt-formatted-string>,\n",
       " <yt-formatted-string class=\"style-scope ytd-playlist-panel-video-renderer\" disable-upgrade=\"\" hidden=\"\" id=\"video-info\" no-endpoints=\"\">\n",
       " </yt-formatted-string>,\n",
       " <yt-formatted-string class=\"style-scope ytd-playlist-panel-video-renderer\" disable-upgrade=\"\" hidden=\"\" id=\"unplayableText\" no-endpoints=\"\">\n",
       " </yt-formatted-string>,\n",
       " <yt-formatted-string class=\"style-scope ytd-playlist-panel-video-renderer\" disable-upgrade=\"\" hidden=\"\" id=\"video-info\" no-endpoints=\"\">\n",
       " </yt-formatted-string>,\n",
       " <yt-formatted-string class=\"style-scope ytd-playlist-panel-video-renderer\" disable-upgrade=\"\" hidden=\"\" id=\"unplayableText\" no-endpoints=\"\">\n",
       " </yt-formatted-string>,\n",
       " <yt-formatted-string class=\"style-scope ytd-playlist-panel-video-renderer\" disable-upgrade=\"\" hidden=\"\" id=\"video-info\" no-endpoints=\"\">\n",
       " </yt-formatted-string>,\n",
       " <yt-formatted-string class=\"style-scope ytd-button-renderer\" id=\"text\">지금 신청</yt-formatted-string>,\n",
       " <yt-formatted-string class=\"style-scope ytd-channel-name\" ellipsis-truncate=\"\" ellipsis-truncate-styling=\"\" id=\"text\" link-inherit-color=\"\" title=\"\">EduAtoZ - Programming</yt-formatted-string>,\n",
       " <yt-formatted-string class=\"style-scope ytd-channel-name\" ellipsis-truncate=\"\" ellipsis-truncate-styling=\"\" id=\"text\" link-inherit-color=\"\" title=\"\">행끼리TV</yt-formatted-string>,\n",
       " <yt-formatted-string class=\"style-scope ytd-channel-name\" ellipsis-truncate=\"\" ellipsis-truncate-styling=\"\" id=\"text\" link-inherit-color=\"\" title=\"\">Jio Kim</yt-formatted-string>,\n",
       " <yt-formatted-string class=\"style-scope ytd-channel-name\" ellipsis-truncate=\"\" ellipsis-truncate-styling=\"\" id=\"text\" link-inherit-color=\"\" title=\"\">EduAtoZ - Programming</yt-formatted-string>,\n",
       " <yt-formatted-string class=\"style-scope ytd-channel-name\" ellipsis-truncate=\"\" ellipsis-truncate-styling=\"\" id=\"text\" link-inherit-color=\"\" title=\"\">이종민의 숙성국어</yt-formatted-string>,\n",
       " <yt-formatted-string class=\"style-scope ytd-thumbnail-overlay-bottom-panel-renderer\" is-empty=\"\"><!--css-build:shady--><yt-attributed-string class=\"style-scope yt-formatted-string\"></yt-attributed-string></yt-formatted-string>,\n",
       " <yt-formatted-string class=\"style-scope ytd-channel-name\" id=\"text\" link-inherit-color=\"\" title=\"\">나만을 위한 맞춤 재생목록</yt-formatted-string>,\n",
       " <yt-formatted-string class=\"style-scope ytd-channel-name\" ellipsis-truncate=\"\" ellipsis-truncate-styling=\"\" id=\"text\" link-inherit-color=\"\" title=\"\">EduAtoZ - Programming</yt-formatted-string>,\n",
       " <yt-formatted-string class=\"style-scope ytd-channel-name\" ellipsis-truncate=\"\" ellipsis-truncate-styling=\"\" id=\"text\" link-inherit-color=\"\" title=\"\">EduAtoZ - Programming</yt-formatted-string>,\n",
       " <yt-formatted-string class=\"style-scope ytd-channel-name\" ellipsis-truncate=\"\" ellipsis-truncate-styling=\"\" id=\"text\" link-inherit-color=\"\" title=\"\">EduAtoZ - Programming</yt-formatted-string>,\n",
       " <yt-formatted-string class=\"style-scope ytd-playlist-thumbnail\" hidden=\"\" id=\"length\" is-empty=\"\"><!--css-build:shady--><yt-attributed-string class=\"style-scope yt-formatted-string\"></yt-attributed-string></yt-formatted-string>,\n",
       " <yt-formatted-string class=\"style-scope ytd-thumbnail-overlay-side-panel-renderer\">21</yt-formatted-string>,\n",
       " <yt-formatted-string class=\"style-scope ytd-channel-name\" ellipsis-truncate=\"\" ellipsis-truncate-styling=\"\" id=\"text\" link-inherit-color=\"\" title=\"\">EduAtoZ - Programming</yt-formatted-string>,\n",
       " <yt-formatted-string class=\"style-scope ytd-channel-name\" ellipsis-truncate=\"\" ellipsis-truncate-styling=\"\" id=\"text\" link-inherit-color=\"\" title=\"\">데이터에듀</yt-formatted-string>,\n",
       " <yt-formatted-string class=\"style-scope ytd-channel-name\" ellipsis-truncate=\"\" ellipsis-truncate-styling=\"\" id=\"text\" link-inherit-color=\"\" title=\"\">EduAtoZ - Programming</yt-formatted-string>,\n",
       " <yt-formatted-string class=\"style-scope ytd-channel-name\" ellipsis-truncate=\"\" ellipsis-truncate-styling=\"\" id=\"text\" link-inherit-color=\"\" title=\"\">임베스트TV</yt-formatted-string>,\n",
       " <yt-formatted-string class=\"style-scope ytd-channel-name\" ellipsis-truncate=\"\" ellipsis-truncate-styling=\"\" id=\"text\" link-inherit-color=\"\" title=\"\">EduAtoZ - Programming</yt-formatted-string>,\n",
       " <yt-formatted-string class=\"style-scope ytd-channel-name\" ellipsis-truncate=\"\" ellipsis-truncate-styling=\"\" id=\"text\" link-inherit-color=\"\" title=\"\">Datarian</yt-formatted-string>,\n",
       " <yt-formatted-string class=\"style-scope ytd-channel-name\" ellipsis-truncate=\"\" ellipsis-truncate-styling=\"\" id=\"text\" link-inherit-color=\"\" title=\"\">EduAtoZ - Programming</yt-formatted-string>,\n",
       " <yt-formatted-string class=\"style-scope ytd-channel-name\" ellipsis-truncate=\"\" ellipsis-truncate-styling=\"\" id=\"text\" link-inherit-color=\"\" title=\"\">EduAtoZ - Programming</yt-formatted-string>,\n",
       " <yt-formatted-string class=\"style-scope ytd-channel-name\" ellipsis-truncate=\"\" ellipsis-truncate-styling=\"\" id=\"text\" link-inherit-color=\"\" title=\"\">데이터에듀(R프로그래밍, 데이터분석전문가)</yt-formatted-string>,\n",
       " <yt-formatted-string class=\"style-scope ytd-channel-name\" ellipsis-truncate=\"\" ellipsis-truncate-styling=\"\" id=\"text\" link-inherit-color=\"\" title=\"\">성히있는 하루</yt-formatted-string>,\n",
       " <yt-formatted-string class=\"style-scope ytd-channel-name\" ellipsis-truncate=\"\" ellipsis-truncate-styling=\"\" id=\"text\" link-inherit-color=\"\" title=\"\">홀릭스 - HOLIX Kr</yt-formatted-string>,\n",
       " <yt-formatted-string class=\"style-scope ytd-button-renderer style-suggestive size-default\" id=\"text\">더보기</yt-formatted-string>,\n",
       " <yt-formatted-string class=\"style-scope yt-notification-action-renderer\" id=\"text\" respect-html-dir=\"\" split-lines=\"\">동영상 중단 현상이 발생합니까?</yt-formatted-string>,\n",
       " <yt-formatted-string class=\"style-scope yt-notification-action-renderer\" hidden=\"\" id=\"sub-text\" is-empty=\"\" respect-html-dir=\"\" split-lines=\"\"><!--css-build:shady--><yt-attributed-string class=\"style-scope yt-formatted-string\"></yt-attributed-string></yt-formatted-string>,\n",
       " <yt-formatted-string class=\"style-scope yt-button-renderer\" id=\"text\">원인 알아보기</yt-formatted-string>,\n",
       " <yt-formatted-string class=\"style-scope yt-tooltip-renderer\" hidden=\"\" id=\"text\" is-empty=\"\"><!--css-build:shady--><yt-attributed-string class=\"style-scope yt-formatted-string\"></yt-attributed-string></yt-formatted-string>,\n",
       " <yt-formatted-string class=\"style-scope yt-tooltip-renderer\" id=\"details-text\">채널에 가입하고 회원 전용 혜택을 누려보세요.</yt-formatted-string>]"
      ]
     },
     "execution_count": 119,
     "metadata": {},
     "output_type": "execute_result"
    }
   ],
   "source": [
    "soup.select('yt-formatted-string')"
   ]
  }
 ],
 "metadata": {
  "kernelspec": {
   "display_name": "final_kernel",
   "language": "python",
   "name": "final"
  },
  "language_info": {
   "codemirror_mode": {
    "name": "ipython",
    "version": 3
   },
   "file_extension": ".py",
   "mimetype": "text/x-python",
   "name": "python",
   "nbconvert_exporter": "python",
   "pygments_lexer": "ipython3",
   "version": "3.9.12"
  }
 },
 "nbformat": 4,
 "nbformat_minor": 5
}
