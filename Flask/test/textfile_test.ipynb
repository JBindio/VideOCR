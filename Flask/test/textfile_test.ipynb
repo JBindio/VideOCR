{
 "cells": [
  {
   "cell_type": "code",
   "execution_count": 1,
   "metadata": {},
   "outputs": [],
   "source": [
    "import pandas as pd"
   ]
  },
  {
   "cell_type": "code",
   "execution_count": 4,
   "metadata": {},
   "outputs": [
    {
     "data": {
      "text/html": [
       "<div>\n",
       "<style scoped>\n",
       "    .dataframe tbody tr th:only-of-type {\n",
       "        vertical-align: middle;\n",
       "    }\n",
       "\n",
       "    .dataframe tbody tr th {\n",
       "        vertical-align: top;\n",
       "    }\n",
       "\n",
       "    .dataframe thead th {\n",
       "        text-align: right;\n",
       "    }\n",
       "</style>\n",
       "<table border=\"1\" class=\"dataframe\">\n",
       "  <thead>\n",
       "    <tr style=\"text-align: right;\">\n",
       "      <th></th>\n",
       "      <th>timestamps</th>\n",
       "      <th>original</th>\n",
       "      <th>checked</th>\n",
       "    </tr>\n",
       "  </thead>\n",
       "  <tbody>\n",
       "    <tr>\n",
       "      <th>0</th>\n",
       "      <td>0:56</td>\n",
       "      <td>['가장 널리 알려진 지식의 차원은 Polanyi에l 의해 구분된 \"암묵지와 형식지...</td>\n",
       "      <td>가장 널리 알려진 지식의 차원은 Polanyi에 l 의해 구분된 암묵지와 형식지이다...</td>\n",
       "    </tr>\n",
       "    <tr>\n",
       "      <th>1</th>\n",
       "      <td>2:13</td>\n",
       "      <td>['다음 중 암묵지가 아난 것은?', '김장김치 담그기의 노하우', '암묵지논 개인...</td>\n",
       "      <td>다음 중 암묵지가 아난 것은 김장김치 담그기의 노하우 암묵지 논 개인에게 체화되기 ...</td>\n",
       "    </tr>\n",
       "    <tr>\n",
       "      <th>2</th>\n",
       "      <td>3:21</td>\n",
       "      <td>['2. 데이터에 대한 설명으로 부적절한 것은?', '데이터는 지식경영의 핵심 이슷...</td>\n",
       "      <td>2 데이터에 대한 설명으로 부적절한 것은 데이터는 지식경영의 핵심 비슷인 아물지 와...</td>\n",
       "    </tr>\n",
       "  </tbody>\n",
       "</table>\n",
       "</div>"
      ],
      "text/plain": [
       "  timestamps                                           original  \\\n",
       "0       0:56  ['가장 널리 알려진 지식의 차원은 Polanyi에l 의해 구분된 \"암묵지와 형식지...   \n",
       "1       2:13  ['다음 중 암묵지가 아난 것은?', '김장김치 담그기의 노하우', '암묵지논 개인...   \n",
       "2       3:21  ['2. 데이터에 대한 설명으로 부적절한 것은?', '데이터는 지식경영의 핵심 이슷...   \n",
       "\n",
       "                                             checked  \n",
       "0  가장 널리 알려진 지식의 차원은 Polanyi에 l 의해 구분된 암묵지와 형식지이다...  \n",
       "1  다음 중 암묵지가 아난 것은 김장김치 담그기의 노하우 암묵지 논 개인에게 체화되기 ...  \n",
       "2  2 데이터에 대한 설명으로 부적절한 것은 데이터는 지식경영의 핵심 비슷인 아물지 와...  "
      ]
     },
     "execution_count": 4,
     "metadata": {},
     "output_type": "execute_result"
    }
   ],
   "source": [
    "df = pd.read_csv('textfile/test.csv')\n",
    "df"
   ]
  },
  {
   "cell_type": "code",
   "execution_count": 3,
   "metadata": {},
   "outputs": [
    {
     "data": {
      "text/plain": [
       "{'timestamps': ['0:56', '2:13', '3:21'],\n",
       " 'text': ['가장 널리 알려진 지식의 차원은 Polanyi에 l 의해 구분된 암묵지와 형식지이다 아물지 와 형식지의 상호작용은 지식경영의 핵심 이슷입니다암물지학습과 체험 올 통해 개인에게 습득 현장 작업과 같은 경험 올 통해 획득 시행 칙어와 오랜 경험 올 통해 개인에게 습득된 무형 지식 예 김장김치 담그기 자전거 타기 공유되기 어려움 형식지 교과서 매뉴얼 비디오 DB 등으로 형상화된 지식 올 의미 예 회계 재무 관련 대차대조표에 요구되온 지식의 매뉴얼 외부로 표출되어 여러 사람이 공유할 수 있는 지식',\n",
       "  '다음 중 암묵지가 아난 것은 김장김치 담그기의 노하우 암묵지 논 개인에게 체화되기 때문에 공유하기 어렵다 현장 작업과 같은 경험 올 통해 획득할 수 있는 지식 회계 재무 관련 대차대조표에 요구되는 지식의 매뉴얼 등이 암묵지이다 암 물지 김장김치 담그기 자전거 타기 형식지  회계 재무 관련 대차대조표에 요구되는 지식의 매뉴얼',\n",
       "  '2 데이터에 대한 설명으로 부적절한 것은 데이터는 지식경영의 핵심 비슷인 아물지 와 형식지의 상호작용 올 한다 형식지논 문서나 매뉴얼처럼 외부로 표출되어 여러 사람이 공유할 수 있는 지식이다 형식지란 개인에 체화된 비밀스러운 지식이다 지식의 차원에 대해 가장 널리 알려진 것은 Polanyi에 의해 두 가지 차원으로 구성원 아물지 와 형식지이다 암 물지 학습과 체험 올 통해 개인에게 습득 형식지 교과서 매뉴얼 비디오 DB 등으로 형상화된 지식']}"
      ]
     },
     "execution_count": 3,
     "metadata": {},
     "output_type": "execute_result"
    }
   ],
   "source": [
    "df_dict"
   ]
  },
  {
   "cell_type": "code",
   "execution_count": 2,
   "metadata": {},
   "outputs": [
    {
     "name": "stderr",
     "output_type": "stream",
     "text": [
      "c:\\Users\\admin\\anaconda3\\envs\\final\\lib\\site-packages\\pydub\\utils.py:170: RuntimeWarning: Couldn't find ffmpeg or avconv - defaulting to ffmpeg, but may not work\n",
      "  warn(\"Couldn't find ffmpeg or avconv - defaulting to ffmpeg, but may not work\", RuntimeWarning)\n"
     ]
    }
   ],
   "source": [
    "import glob\n",
    "from pydub import AudioSegment"
   ]
  },
  {
   "cell_type": "code",
   "execution_count": 4,
   "metadata": {},
   "outputs": [
    {
     "name": "stderr",
     "output_type": "stream",
     "text": [
      "c:\\Users\\admin\\anaconda3\\envs\\final\\lib\\site-packages\\pydub\\utils.py:198: RuntimeWarning: Couldn't find ffprobe or avprobe - defaulting to ffprobe, but may not work\n",
      "  warn(\"Couldn't find ffprobe or avprobe - defaulting to ffprobe, but may not work\", RuntimeWarning)\n"
     ]
    },
    {
     "ename": "FileNotFoundError",
     "evalue": "[WinError 2] 지정된 파일을 찾을 수 없습니다",
     "output_type": "error",
     "traceback": [
      "\u001b[1;31m---------------------------------------------------------------------------\u001b[0m",
      "\u001b[1;31mFileNotFoundError\u001b[0m                         Traceback (most recent call last)",
      "\u001b[1;32mc:\\Users\\admin\\STUDY\\FinalProject\\Flask\\Untitled-1.ipynb 셀 5\u001b[0m in \u001b[0;36m<cell line: 5>\u001b[1;34m()\u001b[0m\n\u001b[0;32m      <a href='vscode-notebook-cell:/c%3A/Users/admin/STUDY/FinalProject/Flask/Untitled-1.ipynb#W3sZmlsZQ%3D%3D?line=0'>1</a>\u001b[0m output \u001b[39m=\u001b[39m glob\u001b[39m.\u001b[39mglob(\u001b[39m'\u001b[39m\u001b[39mC:/Users/admin/Downloads/*.weba\u001b[39m\u001b[39m'\u001b[39m)\n\u001b[0;32m      <a href='vscode-notebook-cell:/c%3A/Users/admin/STUDY/FinalProject/Flask/Untitled-1.ipynb#W3sZmlsZQ%3D%3D?line=2'>3</a>\u001b[0m file \u001b[39m=\u001b[39m output[\u001b[39m-\u001b[39m\u001b[39m1\u001b[39m]\n\u001b[1;32m----> <a href='vscode-notebook-cell:/c%3A/Users/admin/STUDY/FinalProject/Flask/Untitled-1.ipynb#W3sZmlsZQ%3D%3D?line=4'>5</a>\u001b[0m audioSegment \u001b[39m=\u001b[39m AudioSegment\u001b[39m.\u001b[39;49mfrom_file(file, \u001b[39m'\u001b[39;49m\u001b[39mwebm\u001b[39;49m\u001b[39m'\u001b[39;49m)\n\u001b[0;32m      <a href='vscode-notebook-cell:/c%3A/Users/admin/STUDY/FinalProject/Flask/Untitled-1.ipynb#W3sZmlsZQ%3D%3D?line=6'>7</a>\u001b[0m new_file_path \u001b[39m=\u001b[39m \u001b[39m'\u001b[39m\u001b[39mC:/Users/admin/Downloads/qna.wav\u001b[39m\u001b[39m'\u001b[39m\n\u001b[0;32m      <a href='vscode-notebook-cell:/c%3A/Users/admin/STUDY/FinalProject/Flask/Untitled-1.ipynb#W3sZmlsZQ%3D%3D?line=8'>9</a>\u001b[0m audioSegment\u001b[39m.\u001b[39mexport(new_file_path, \u001b[39mformat\u001b[39m\u001b[39m=\u001b[39m\u001b[39m'\u001b[39m\u001b[39mwav\u001b[39m\u001b[39m'\u001b[39m)\n",
      "File \u001b[1;32mc:\\Users\\admin\\anaconda3\\envs\\final\\lib\\site-packages\\pydub\\audio_segment.py:728\u001b[0m, in \u001b[0;36mAudioSegment.from_file\u001b[1;34m(cls, file, format, codec, parameters, start_second, duration, **kwargs)\u001b[0m\n\u001b[0;32m    726\u001b[0m     info \u001b[39m=\u001b[39m \u001b[39mNone\u001b[39;00m\n\u001b[0;32m    727\u001b[0m \u001b[39melse\u001b[39;00m:\n\u001b[1;32m--> 728\u001b[0m     info \u001b[39m=\u001b[39m mediainfo_json(orig_file, read_ahead_limit\u001b[39m=\u001b[39;49mread_ahead_limit)\n\u001b[0;32m    729\u001b[0m \u001b[39mif\u001b[39;00m info:\n\u001b[0;32m    730\u001b[0m     audio_streams \u001b[39m=\u001b[39m [x \u001b[39mfor\u001b[39;00m x \u001b[39min\u001b[39;00m info[\u001b[39m'\u001b[39m\u001b[39mstreams\u001b[39m\u001b[39m'\u001b[39m]\n\u001b[0;32m    731\u001b[0m                      \u001b[39mif\u001b[39;00m x[\u001b[39m'\u001b[39m\u001b[39mcodec_type\u001b[39m\u001b[39m'\u001b[39m] \u001b[39m==\u001b[39m \u001b[39m'\u001b[39m\u001b[39maudio\u001b[39m\u001b[39m'\u001b[39m]\n",
      "File \u001b[1;32mc:\\Users\\admin\\anaconda3\\envs\\final\\lib\\site-packages\\pydub\\utils.py:274\u001b[0m, in \u001b[0;36mmediainfo_json\u001b[1;34m(filepath, read_ahead_limit)\u001b[0m\n\u001b[0;32m    271\u001b[0m         file\u001b[39m.\u001b[39mclose()\n\u001b[0;32m    273\u001b[0m command \u001b[39m=\u001b[39m [prober, \u001b[39m'\u001b[39m\u001b[39m-of\u001b[39m\u001b[39m'\u001b[39m, \u001b[39m'\u001b[39m\u001b[39mjson\u001b[39m\u001b[39m'\u001b[39m] \u001b[39m+\u001b[39m command_args\n\u001b[1;32m--> 274\u001b[0m res \u001b[39m=\u001b[39m Popen(command, stdin\u001b[39m=\u001b[39;49mstdin_parameter, stdout\u001b[39m=\u001b[39;49mPIPE, stderr\u001b[39m=\u001b[39;49mPIPE)\n\u001b[0;32m    275\u001b[0m output, stderr \u001b[39m=\u001b[39m res\u001b[39m.\u001b[39mcommunicate(\u001b[39minput\u001b[39m\u001b[39m=\u001b[39mstdin_data)\n\u001b[0;32m    276\u001b[0m output \u001b[39m=\u001b[39m output\u001b[39m.\u001b[39mdecode(\u001b[39m\"\u001b[39m\u001b[39mutf-8\u001b[39m\u001b[39m\"\u001b[39m, \u001b[39m'\u001b[39m\u001b[39mignore\u001b[39m\u001b[39m'\u001b[39m)\n",
      "File \u001b[1;32mc:\\Users\\admin\\anaconda3\\envs\\final\\lib\\subprocess.py:966\u001b[0m, in \u001b[0;36mPopen.__init__\u001b[1;34m(self, args, bufsize, executable, stdin, stdout, stderr, preexec_fn, close_fds, shell, cwd, env, universal_newlines, startupinfo, creationflags, restore_signals, start_new_session, pass_fds, user, group, extra_groups, encoding, errors, text, umask, pipesize)\u001b[0m\n\u001b[0;32m    962\u001b[0m         \u001b[39mif\u001b[39;00m \u001b[39mself\u001b[39m\u001b[39m.\u001b[39mtext_mode:\n\u001b[0;32m    963\u001b[0m             \u001b[39mself\u001b[39m\u001b[39m.\u001b[39mstderr \u001b[39m=\u001b[39m io\u001b[39m.\u001b[39mTextIOWrapper(\u001b[39mself\u001b[39m\u001b[39m.\u001b[39mstderr,\n\u001b[0;32m    964\u001b[0m                     encoding\u001b[39m=\u001b[39mencoding, errors\u001b[39m=\u001b[39merrors)\n\u001b[1;32m--> 966\u001b[0m     \u001b[39mself\u001b[39;49m\u001b[39m.\u001b[39;49m_execute_child(args, executable, preexec_fn, close_fds,\n\u001b[0;32m    967\u001b[0m                         pass_fds, cwd, env,\n\u001b[0;32m    968\u001b[0m                         startupinfo, creationflags, shell,\n\u001b[0;32m    969\u001b[0m                         p2cread, p2cwrite,\n\u001b[0;32m    970\u001b[0m                         c2pread, c2pwrite,\n\u001b[0;32m    971\u001b[0m                         errread, errwrite,\n\u001b[0;32m    972\u001b[0m                         restore_signals,\n\u001b[0;32m    973\u001b[0m                         gid, gids, uid, umask,\n\u001b[0;32m    974\u001b[0m                         start_new_session)\n\u001b[0;32m    975\u001b[0m \u001b[39mexcept\u001b[39;00m:\n\u001b[0;32m    976\u001b[0m     \u001b[39m# Cleanup if the child failed starting.\u001b[39;00m\n\u001b[0;32m    977\u001b[0m     \u001b[39mfor\u001b[39;00m f \u001b[39min\u001b[39;00m \u001b[39mfilter\u001b[39m(\u001b[39mNone\u001b[39;00m, (\u001b[39mself\u001b[39m\u001b[39m.\u001b[39mstdin, \u001b[39mself\u001b[39m\u001b[39m.\u001b[39mstdout, \u001b[39mself\u001b[39m\u001b[39m.\u001b[39mstderr)):\n",
      "File \u001b[1;32mc:\\Users\\admin\\anaconda3\\envs\\final\\lib\\subprocess.py:1435\u001b[0m, in \u001b[0;36mPopen._execute_child\u001b[1;34m(self, args, executable, preexec_fn, close_fds, pass_fds, cwd, env, startupinfo, creationflags, shell, p2cread, p2cwrite, c2pread, c2pwrite, errread, errwrite, unused_restore_signals, unused_gid, unused_gids, unused_uid, unused_umask, unused_start_new_session)\u001b[0m\n\u001b[0;32m   1433\u001b[0m \u001b[39m# Start the process\u001b[39;00m\n\u001b[0;32m   1434\u001b[0m \u001b[39mtry\u001b[39;00m:\n\u001b[1;32m-> 1435\u001b[0m     hp, ht, pid, tid \u001b[39m=\u001b[39m _winapi\u001b[39m.\u001b[39;49mCreateProcess(executable, args,\n\u001b[0;32m   1436\u001b[0m                              \u001b[39m# no special security\u001b[39;49;00m\n\u001b[0;32m   1437\u001b[0m                              \u001b[39mNone\u001b[39;49;00m, \u001b[39mNone\u001b[39;49;00m,\n\u001b[0;32m   1438\u001b[0m                              \u001b[39mint\u001b[39;49m(\u001b[39mnot\u001b[39;49;00m close_fds),\n\u001b[0;32m   1439\u001b[0m                              creationflags,\n\u001b[0;32m   1440\u001b[0m                              env,\n\u001b[0;32m   1441\u001b[0m                              cwd,\n\u001b[0;32m   1442\u001b[0m                              startupinfo)\n\u001b[0;32m   1443\u001b[0m \u001b[39mfinally\u001b[39;00m:\n\u001b[0;32m   1444\u001b[0m     \u001b[39m# Child is launched. Close the parent's copy of those pipe\u001b[39;00m\n\u001b[0;32m   1445\u001b[0m     \u001b[39m# handles that only the child should have open.  You need\u001b[39;00m\n\u001b[1;32m   (...)\u001b[0m\n\u001b[0;32m   1448\u001b[0m     \u001b[39m# pipe will not close when the child process exits and the\u001b[39;00m\n\u001b[0;32m   1449\u001b[0m     \u001b[39m# ReadFile will hang.\u001b[39;00m\n\u001b[0;32m   1450\u001b[0m     \u001b[39mself\u001b[39m\u001b[39m.\u001b[39m_close_pipe_fds(p2cread, p2cwrite,\n\u001b[0;32m   1451\u001b[0m                          c2pread, c2pwrite,\n\u001b[0;32m   1452\u001b[0m                          errread, errwrite)\n",
      "\u001b[1;31mFileNotFoundError\u001b[0m: [WinError 2] 지정된 파일을 찾을 수 없습니다"
     ]
    }
   ],
   "source": [
    "output = glob.glob('C:/Users/admin/Downloads/*.weba')\n",
    "\n",
    "file = output[-1]\n",
    "\n",
    "audioSegment = AudioSegment.from_file(file, 'webm')\n",
    "\n",
    "new_file_path = 'C:/Users/admin/Downloads/qna.wav'\n",
    "\n",
    "audioSegment.export(new_file_path, format='wav')"
   ]
  },
  {
   "cell_type": "code",
   "execution_count": 4,
   "metadata": {},
   "outputs": [],
   "source": [
    "import pandas as pd\n",
    "import math\n",
    "\n",
    "\n",
    "df = pd.read_csv('./textfile/IHd-v4zYxj0.csv')\n",
    "# start timestamps 생성\n",
    "start_indexplus_one = []\n",
    "\n",
    "for i in range(len(df)) :\n",
    "  min = pd.to_numeric(df['timestamps'].str.split(':')[i][0])\n",
    "  sec = pd.to_numeric(df['timestamps'].str.split(':')[i][1])\n",
    "\n",
    "  start = (min*60) + sec - 1\n",
    "  start_indexplus_one.append('{}:{:02d}'.format(math.trunc(start/60), math.ceil(start%60)))\n",
    "\n",
    "\n",
    "# 데이터프레임에 추가\n",
    "df['start_timestamps'] = ''\n",
    "\n",
    "for i in range(len(start_indexplus_one)) :\n",
    "  if i == 0 :\n",
    "    df['start_timestamps'].loc[i] = '0:00'\n",
    "  else:\n",
    "    df['start_timestamps'].loc[i] = start_indexplus_one[i]\n",
    "\n",
    "\n",
    "df = df[['start_timestamps', 'timestamps', 'original', 'checked']]"
   ]
  },
  {
   "cell_type": "code",
   "execution_count": 13,
   "metadata": {},
   "outputs": [
    {
     "name": "stderr",
     "output_type": "stream",
     "text": [
      "C:\\Users\\admin\\AppData\\Local\\Temp\\ipykernel_560\\2445752920.py:20: SettingWithCopyWarning: \n",
      "A value is trying to be set on a copy of a slice from a DataFrame\n",
      "\n",
      "See the caveats in the documentation: https://pandas.pydata.org/pandas-docs/stable/user_guide/indexing.html#returning-a-view-versus-a-copy\n",
      "  df['start_timestamps'].loc[i] = start_indexplus_one[0]\n",
      "C:\\Users\\admin\\AppData\\Local\\Temp\\ipykernel_560\\2445752920.py:22: SettingWithCopyWarning: \n",
      "A value is trying to be set on a copy of a slice from a DataFrame\n",
      "\n",
      "See the caveats in the documentation: https://pandas.pydata.org/pandas-docs/stable/user_guide/indexing.html#returning-a-view-versus-a-copy\n",
      "  df['start_timestamps'].loc[i] = start_indexplus_one[i]\n"
     ]
    }
   ],
   "source": [
    "import pandas as pd\n",
    "import math\n",
    "\n",
    "df = pd.read_csv('./textfile/IHd-v4zYxj0.csv')\n",
    "# start timestamps 생성\n",
    "start_indexplus_one = ['0:00']\n",
    "\n",
    "for i in range(len(df)) :\n",
    "  min = pd.to_numeric(df['timestamps'].str.split(':')[i][0])\n",
    "  sec = pd.to_numeric(df['timestamps'].str.split(':')[i][1])\n",
    "\n",
    "  start = (min*60) + sec + 1\n",
    "  start_indexplus_one.append('{}:{:02d}'.format(math.trunc(start/60), math.ceil(start%60)))\n",
    "\n",
    "\n",
    "df['start_timestamps'] = ''\n",
    "\n",
    "for i in range(len(start_indexplus_one)) :\n",
    "  if i == 0 : \n",
    "    df['start_timestamps'].loc[i] = start_indexplus_one[0]\n",
    "  else:\n",
    "    df['start_timestamps'].loc[i] = start_indexplus_one[i]\n",
    "    \n",
    "df = df[['start_timestamps', 'timestamps', 'original', 'checked']]\n"
   ]
  },
  {
   "cell_type": "code",
   "execution_count": 14,
   "metadata": {},
   "outputs": [
    {
     "data": {
      "text/html": [
       "<div>\n",
       "<style scoped>\n",
       "    .dataframe tbody tr th:only-of-type {\n",
       "        vertical-align: middle;\n",
       "    }\n",
       "\n",
       "    .dataframe tbody tr th {\n",
       "        vertical-align: top;\n",
       "    }\n",
       "\n",
       "    .dataframe thead th {\n",
       "        text-align: right;\n",
       "    }\n",
       "</style>\n",
       "<table border=\"1\" class=\"dataframe\">\n",
       "  <thead>\n",
       "    <tr style=\"text-align: right;\">\n",
       "      <th></th>\n",
       "      <th>start_timestamps</th>\n",
       "      <th>timestamps</th>\n",
       "      <th>original</th>\n",
       "      <th>checked</th>\n",
       "    </tr>\n",
       "  </thead>\n",
       "  <tbody>\n",
       "    <tr>\n",
       "      <th>0</th>\n",
       "      <td>0:00</td>\n",
       "      <td>0:56</td>\n",
       "      <td>['가장 널리 알려진 지식의 차원은 Polanyi에l 의해 구분된 \"암묵지와 형식지...</td>\n",
       "      <td>가장 널리 알려진 지식의 차원은 Polanyi에 l 의해 구분된 암묵지와 형식지이다...</td>\n",
       "    </tr>\n",
       "    <tr>\n",
       "      <th>1</th>\n",
       "      <td>0:57</td>\n",
       "      <td>2:13</td>\n",
       "      <td>['다음 중 암묵지가 아난 것은?', '김장김치 담그기의 노하우', '암묵지논 개인...</td>\n",
       "      <td>다음 중 암묵지가 아난 것은 김장김치 담그기의 노하우 암묵지 논 개인에게 체화되기 ...</td>\n",
       "    </tr>\n",
       "    <tr>\n",
       "      <th>2</th>\n",
       "      <td>2:14</td>\n",
       "      <td>3:21</td>\n",
       "      <td>['2. 데이터에 대한 설명으로 부적절한 것은?', '데이터는 지식경영의 핵심 이슷...</td>\n",
       "      <td>2 데이터에 대한 설명으로 부적절한 것은 데이터는 지식경영의 핵심 비슷인 아물지 와...</td>\n",
       "    </tr>\n",
       "  </tbody>\n",
       "</table>\n",
       "</div>"
      ],
      "text/plain": [
       "  start_timestamps timestamps  \\\n",
       "0             0:00       0:56   \n",
       "1             0:57       2:13   \n",
       "2             2:14       3:21   \n",
       "\n",
       "                                            original  \\\n",
       "0  ['가장 널리 알려진 지식의 차원은 Polanyi에l 의해 구분된 \"암묵지와 형식지...   \n",
       "1  ['다음 중 암묵지가 아난 것은?', '김장김치 담그기의 노하우', '암묵지논 개인...   \n",
       "2  ['2. 데이터에 대한 설명으로 부적절한 것은?', '데이터는 지식경영의 핵심 이슷...   \n",
       "\n",
       "                                             checked  \n",
       "0  가장 널리 알려진 지식의 차원은 Polanyi에 l 의해 구분된 암묵지와 형식지이다...  \n",
       "1  다음 중 암묵지가 아난 것은 김장김치 담그기의 노하우 암묵지 논 개인에게 체화되기 ...  \n",
       "2  2 데이터에 대한 설명으로 부적절한 것은 데이터는 지식경영의 핵심 비슷인 아물지 와...  "
      ]
     },
     "execution_count": 14,
     "metadata": {},
     "output_type": "execute_result"
    }
   ],
   "source": [
    "df"
   ]
  },
  {
   "cell_type": "code",
   "execution_count": null,
   "metadata": {},
   "outputs": [],
   "source": [
    "import pandas as pd"
   ]
  },
  {
   "cell_type": "code",
   "execution_count": 5,
   "metadata": {},
   "outputs": [
    {
     "name": "stderr",
     "output_type": "stream",
     "text": [
      "C:\\Users\\admin\\AppData\\Local\\Temp\\ipykernel_15176\\3795670123.py:21: SettingWithCopyWarning: \n",
      "A value is trying to be set on a copy of a slice from a DataFrame\n",
      "\n",
      "See the caveats in the documentation: https://pandas.pydata.org/pandas-docs/stable/user_guide/indexing.html#returning-a-view-versus-a-copy\n",
      "  df['start_timestamps'].loc[i] = start_indexplus_one[0]\n",
      "C:\\Users\\admin\\AppData\\Local\\Temp\\ipykernel_15176\\3795670123.py:23: SettingWithCopyWarning: \n",
      "A value is trying to be set on a copy of a slice from a DataFrame\n",
      "\n",
      "See the caveats in the documentation: https://pandas.pydata.org/pandas-docs/stable/user_guide/indexing.html#returning-a-view-versus-a-copy\n",
      "  df['start_timestamps'].loc[i] = start_indexplus_one[i]\n"
     ]
    }
   ],
   "source": [
    "import pandas as pd\n",
    "import math\n",
    "\n",
    "df = pd.read_csv('textfile/IHd-v4zYxj0.csv')\n",
    "    \n",
    "    # start timestamps 생성\n",
    "start_indexplus_one = ['0:00']\n",
    "\n",
    "for i in range(len(df)) :\n",
    "    min = pd.to_numeric(df['timestamps'].str.split(':')[i][0])\n",
    "    sec = pd.to_numeric(df['timestamps'].str.split(':')[i][1])\n",
    "\n",
    "    start = (min*60) + sec + 1\n",
    "    start_indexplus_one.append('{}:{:02d}'.format(math.trunc(start/60), math.ceil(start%60)))\n",
    "\n",
    "\n",
    "df['start_timestamps'] = ''\n",
    "\n",
    "for i in range(len(start_indexplus_one)) :\n",
    "    if i == 0 : \n",
    "        df['start_timestamps'].loc[i] = start_indexplus_one[0]\n",
    "    else:\n",
    "        df['start_timestamps'].loc[i] = start_indexplus_one[i]\n",
    "\n",
    "\n",
    "df_list = []\n",
    "for i in range(len(df)):\n",
    "    df_list.append(dict(df.loc[i]))"
   ]
  },
  {
   "cell_type": "code",
   "execution_count": 6,
   "metadata": {},
   "outputs": [
    {
     "data": {
      "text/plain": [
       "[{'Unnamed: 0': 3,\n",
       "  'timestamps': '0:56',\n",
       "  'original': '[\\'가장 널리 알려진 지식의 차원은 Polanyi에l 의해 구분된 \"암묵지와 형식지\"이다 암물지와 형식지의 상호작용은 지식경영의 핵심 이슷입니다.\\', \\'암물지\\', \\'학습과 체험올 통해 개인에게 습득 (현장 작업과 같은 경험올 통해 확득) 시행칙오와 오랜 경험올 통해 개인에게 습득된 무형 지식 예)김장김치 담그기, 자전거 타기 공유되기 어려움\\', \\'형식지\\', \\'교과서, 매뉴얼, 비디오 DB 등으로 형상화 된 지식올 의미 예) 회계, 재무 관련 대차대조표에 요구되논 지식의 매뉴얼 외부로 표출되어 여러 사람이 공유할 수 잇는 지식\\']',\n",
       "  'checked': '가장 널리 알려진 지식의 차원은 Polanyi에 l 의해 구분된 암묵지와 형식지이다 아물지 와 형식지의 상호작용은 지식경영의 핵심 이슷입니다암물지학습과 체험 올 통해 개인에게 습득 현장 작업과 같은 경험 올 통해 획득 시행 칙어와 오랜 경험 올 통해 개인에게 습득된 무형 지식 예 김장김치 담그기 자전거 타기 공유되기 어려움 형식지 교과서 매뉴얼 비디오 DB 등으로 형상화된 지식 올 의미 예 회계 재무 관련 대차대조표에 요구되온 지식의 매뉴얼 외부로 표출되어 여러 사람이 공유할 수 있는 지식',\n",
       "  'start_timestamps': '0:00'},\n",
       " {'Unnamed: 0': 2,\n",
       "  'timestamps': '2:13',\n",
       "  'original': \"['다음 중 암묵지가 아난 것은?', '김장김치 담그기의 노하우', '암묵지논 개인에게 체화 되기 때문에 공유하기 어렵다', '현장작업과 같은 경험올 통해 확득할 수 있는 지식', '회계, 재무 관련 대차대조표에 요구되는 지식의 매뉴얼 등이 암묵지이다', '암물지 김장김치 담그기, 자전거 타기 형식지 : 회계, 재무 관련 대차대조표에 요구되는 지식의 매뉴얼']\",\n",
       "  'checked': '다음 중 암묵지가 아난 것은 김장김치 담그기의 노하우 암묵지 논 개인에게 체화되기 때문에 공유하기 어렵다 현장 작업과 같은 경험 올 통해 획득할 수 있는 지식 회계 재무 관련 대차대조표에 요구되는 지식의 매뉴얼 등이 암묵지이다 암 물지 김장김치 담그기 자전거 타기 형식지  회계 재무 관련 대차대조표에 요구되는 지식의 매뉴얼',\n",
       "  'start_timestamps': '0:57'},\n",
       " {'Unnamed: 0': 1,\n",
       "  'timestamps': '3:21',\n",
       "  'original': \"['2. 데이터에 대한 설명으로 부적절한 것은?', '데이터는 지식경영의 핵심 이슷인 암물지와 형식지의 상호작용올 한다 형식지논 문서나 매뉴얼처럼 외부로 표출되어 여러 사람이 공유할 수 있는 지식이다', '형식지란 개인에 체화 된 비밀스러운 지식이다', '지식의 차원에 대해 가장 널리 알려진 것은 Polanyi에 의해 두가지 차원으로 구성원 암물지와 형식지이다', '암물지 학습과 체험올 통해 개인에게 습득 형식지 교과서 매뉴얼, 비디오 DB 등으로 형상화 된 지식']\",\n",
       "  'checked': '2 데이터에 대한 설명으로 부적절한 것은 데이터는 지식경영의 핵심 비슷인 아물지 와 형식지의 상호작용 올 한다 형식지논 문서나 매뉴얼처럼 외부로 표출되어 여러 사람이 공유할 수 있는 지식이다 형식지란 개인에 체화된 비밀스러운 지식이다 지식의 차원에 대해 가장 널리 알려진 것은 Polanyi에 의해 두 가지 차원으로 구성원 아물지 와 형식지이다 암 물지 학습과 체험 올 통해 개인에게 습득 형식지 교과서 매뉴얼 비디오 DB 등으로 형상화된 지식',\n",
       "  'start_timestamps': '2:14'}]"
      ]
     },
     "execution_count": 6,
     "metadata": {},
     "output_type": "execute_result"
    }
   ],
   "source": [
    "df_list = [{\n",
    "  'timestamps': '0:00',\n",
    "  'checked': '영상 내 텍스트를 찾지 못했습니다',\n",
    "  'start_timestamps': '0:00'\n",
    "  }]"
   ]
  }
 ],
 "metadata": {
  "kernelspec": {
   "display_name": "Python 3.10.4 ('final')",
   "language": "python",
   "name": "python3"
  },
  "language_info": {
   "codemirror_mode": {
    "name": "ipython",
    "version": 3
   },
   "file_extension": ".py",
   "mimetype": "text/x-python",
   "name": "python",
   "nbconvert_exporter": "python",
   "pygments_lexer": "ipython3",
   "version": "3.10.4"
  },
  "orig_nbformat": 4,
  "vscode": {
   "interpreter": {
    "hash": "422bacecc5a04b4f9fe9b50f42372ce3b786ed202976d994abd71261280d25ac"
   }
  }
 },
 "nbformat": 4,
 "nbformat_minor": 2
}
