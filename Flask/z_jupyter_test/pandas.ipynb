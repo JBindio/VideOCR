{
 "cells": [
  {
   "cell_type": "code",
   "execution_count": 1,
   "id": "538aa851-e905-4382-8094-6c1d2a66f37c",
   "metadata": {},
   "outputs": [],
   "source": [
    "import pandas as pd"
   ]
  },
  {
   "cell_type": "code",
   "execution_count": 8,
   "id": "e11eb6fa",
   "metadata": {},
   "outputs": [],
   "source": [
    "df = pd.read_csv('./textfile/암묵지.csv')"
   ]
  },
  {
   "cell_type": "code",
   "execution_count": 11,
   "id": "595d5fbc",
   "metadata": {},
   "outputs": [
    {
     "data": {
      "text/plain": [
       "0    0:56\n",
       "1    2:13\n",
       "2    3:21\n",
       "Name: timestamps, dtype: object"
      ]
     },
     "execution_count": 11,
     "metadata": {},
     "output_type": "execute_result"
    }
   ],
   "source": [
    "time = df['timestamps']\n",
    "time\n"
   ]
  },
  {
   "cell_type": "code",
   "execution_count": 16,
   "id": "eb211865",
   "metadata": {},
   "outputs": [
    {
     "data": {
      "text/plain": [
       "'가장 널리 알려진 지식의 차원은 Polanyi에 l 의해 구분된 암묵지와 형식지이다 아물지 와 형식지의 상호작용은 지식경영의 핵심 이슷입니다암물지학습과 체험 올 통해 개인에게 습득 현장 작업과 같은 경험 올 통해 획득 시행 칙어와 오랜 경험 올 통해 개인에게 습득된 무형 지식 예 김장김치 담그기 자전거 타기 공유되기 어려움 형식지 교과서 매뉴얼 비디오 DB 등으로 형상화된 지식 올 의미 예 회계 재무 관련 대차대조표에 요구되온 지식의 매뉴얼 외부로 표출되어 여러 사람이 공유할 수 있는 지식'"
      ]
     },
     "execution_count": 16,
     "metadata": {},
     "output_type": "execute_result"
    }
   ],
   "source": [
    "text = df['checked'][0]\n",
    "text\n"
   ]
  },
  {
   "cell_type": "code",
   "execution_count": 14,
   "id": "76b217f9",
   "metadata": {},
   "outputs": [
    {
     "name": "stdout",
     "output_type": "stream",
     "text": [
      "가장 널리 알려진 지식의 차원은 Polanyi에 l 의해 구분된 암묵지와 형식지이다 아물지 와 형식지의 상호작용은 지식경영의 핵심 이슷입니다암물지학습과 체험 올 통해 개인에게 습득 현장 작업과 같은 경험 올 통해 획득 시행 칙어와 오랜 경험 올 통해 개인에게 습득된 무형 지식 예 김장김치 담그기 자전거 타기 공유되기 어려움 형식지 교과서 매뉴얼 비디오 DB 등으로 형상화된 지식 올 의미 예 회계 재무 관련 대차대조표에 요구되온 지식의 매뉴얼 외부로 표출되어 여러 사람이 공유할 수 있는 지식\n",
      "다음 중 암묵지가 아난 것은 김장김치 담그기의 노하우 암묵지 논 개인에게 체화되기 때문에 공유하기 어렵다 현장 작업과 같은 경험 올 통해 획득할 수 있는 지식 회계 재무 관련 대차대조표에 요구되는 지식의 매뉴얼 등이 암묵지이다 암 물지 김장김치 담그기 자전거 타기 형식지  회계 재무 관련 대차대조표에 요구되는 지식의 매뉴얼\n",
      "2 데이터에 대한 설명으로 부적절한 것은 데이터는 지식경영의 핵심 비슷인 아물지 와 형식지의 상호작용 올 한다 형식지논 문서나 매뉴얼처럼 외부로 표출되어 여러 사람이 공유할 수 있는 지식이다 형식지란 개인에 체화된 비밀스러운 지식이다 지식의 차원에 대해 가장 널리 알려진 것은 Polanyi에 의해 두 가지 차원으로 구성원 아물지 와 형식지이다 암 물지 학습과 체험 올 통해 개인에게 습득 형식지 교과서 매뉴얼 비디오 DB 등으로 형상화된 지식\n"
     ]
    }
   ],
   "source": [
    "for i in text:\n",
    "    print(i)"
   ]
  }
 ],
 "metadata": {
  "kernelspec": {
   "display_name": "final_kernel",
   "language": "python",
   "name": "final"
  },
  "language_info": {
   "codemirror_mode": {
    "name": "ipython",
    "version": 3
   },
   "file_extension": ".py",
   "mimetype": "text/x-python",
   "name": "python",
   "nbconvert_exporter": "python",
   "pygments_lexer": "ipython3",
   "version": "3.9.12"
  }
 },
 "nbformat": 4,
 "nbformat_minor": 5
}
